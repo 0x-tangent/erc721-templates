{
 "cells": [
  {
   "cell_type": "code",
   "execution_count": 6,
   "metadata": {},
   "outputs": [
    {
     "name": "stdout",
     "output_type": "stream",
     "text": [
      "../build/cover.json\n"
     ]
    }
   ],
   "source": [
    "import json\n",
    "import os\n",
    "build_dir = '../build'\n",
    "\n",
    "json_files = [f for f in os.listdir(build_dir) if f.endswith('.json')]\n",
    "len(json_files)\n",
    "\n",
    "def fix_json(filepath):\n",
    "    data = None\n",
    "    with open(filepath, 'r') as f:\n",
    "        data = json.load(f)\n",
    "        data['name'] = 'Comfy Clouds'\n",
    "        data['description'] = ''\n",
    "    \n",
    "    with open(filepath, 'w') as f:\n",
    "        json.dump(data, f)"
   ]
  }
 ],
 "metadata": {
  "kernelspec": {
   "display_name": "xf",
   "language": "python",
   "name": "python3"
  },
  "language_info": {
   "codemirror_mode": {
    "name": "ipython",
    "version": 3
   },
   "file_extension": ".py",
   "mimetype": "text/x-python",
   "name": "python",
   "nbconvert_exporter": "python",
   "pygments_lexer": "ipython3",
   "version": "3.10.6"
  },
  "orig_nbformat": 4,
  "vscode": {
   "interpreter": {
    "hash": "d339d1b76f3984e1d4a2d5280a19908ed770df2c078eb59087e03b9603d37a7c"
   }
  }
 },
 "nbformat": 4,
 "nbformat_minor": 2
}
